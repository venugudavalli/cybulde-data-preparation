{
 "cells": [
  {
   "cell_type": "code",
   "execution_count": 1,
   "id": "d6666cb2-3bb7-4b46-8c48-b3ec76deb8f7",
   "metadata": {},
   "outputs": [],
   "source": [
    "import pandas as pd"
   ]
  },
  {
   "cell_type": "code",
   "execution_count": 15,
   "id": "1c1cfe3c-b11b-4e91-9456-1b5fdbb4ee3d",
   "metadata": {},
   "outputs": [],
   "source": [
    "df = pd.read_parquet(\"gs://abhideep/cybulde/data/processed/filtered_data/test.parquet\")"
   ]
  },
  {
   "cell_type": "code",
   "execution_count": 3,
   "id": "951fb4db-c993-4d8b-862b-ca6885474ad9",
   "metadata": {},
   "outputs": [
    {
     "data": {
      "text/html": [
       "<div>\n",
       "<style scoped>\n",
       "    .dataframe tbody tr th:only-of-type {\n",
       "        vertical-align: middle;\n",
       "    }\n",
       "\n",
       "    .dataframe tbody tr th {\n",
       "        vertical-align: top;\n",
       "    }\n",
       "\n",
       "    .dataframe thead th {\n",
       "        text-align: right;\n",
       "    }\n",
       "</style>\n",
       "<table border=\"1\" class=\"dataframe\">\n",
       "  <thead>\n",
       "    <tr style=\"text-align: right;\">\n",
       "      <th></th>\n",
       "      <th>text</th>\n",
       "      <th>label</th>\n",
       "      <th>split</th>\n",
       "      <th>dataset_name</th>\n",
       "      <th>cleaned_text</th>\n",
       "    </tr>\n",
       "  </thead>\n",
       "  <tbody>\n",
       "    <tr>\n",
       "      <th>37115</th>\n",
       "      <td>OK thanks for that.</td>\n",
       "      <td>0</td>\n",
       "      <td>dev</td>\n",
       "      <td>jtc</td>\n",
       "      <td>ok thanks</td>\n",
       "    </tr>\n",
       "    <tr>\n",
       "      <th>4185</th>\n",
       "      <td>I'd push for a 4.</td>\n",
       "      <td>0</td>\n",
       "      <td>dev</td>\n",
       "      <td>twt</td>\n",
       "      <td>i d push</td>\n",
       "    </tr>\n",
       "    <tr>\n",
       "      <th>21586</th>\n",
       "      <td>Let's get it on!</td>\n",
       "      <td>0</td>\n",
       "      <td>dev</td>\n",
       "      <td>ghc</td>\n",
       "      <td>let s get</td>\n",
       "    </tr>\n",
       "    <tr>\n",
       "      <th>30846</th>\n",
       "      <td>I hate u,,,,</td>\n",
       "      <td>1</td>\n",
       "      <td>dev</td>\n",
       "      <td>twt</td>\n",
       "      <td>i hate u</td>\n",
       "    </tr>\n",
       "    <tr>\n",
       "      <th>1156</th>\n",
       "      <td>I need it</td>\n",
       "      <td>0</td>\n",
       "      <td>dev</td>\n",
       "      <td>twt</td>\n",
       "      <td>i need</td>\n",
       "    </tr>\n",
       "    <tr>\n",
       "      <th>44943</th>\n",
       "      <td>you are dumb \\n\\nyou are dumb</td>\n",
       "      <td>1</td>\n",
       "      <td>dev</td>\n",
       "      <td>jtc</td>\n",
       "      <td>dumb dumb</td>\n",
       "    </tr>\n",
       "    <tr>\n",
       "      <th>1900</th>\n",
       "      <td>What the fuck?</td>\n",
       "      <td>0</td>\n",
       "      <td>dev</td>\n",
       "      <td>ghc</td>\n",
       "      <td>what fuck</td>\n",
       "    </tr>\n",
       "    <tr>\n",
       "      <th>42733</th>\n",
       "      <td>You know what you should do?</td>\n",
       "      <td>0</td>\n",
       "      <td>dev</td>\n",
       "      <td>jtc</td>\n",
       "      <td>you know</td>\n",
       "    </tr>\n",
       "    <tr>\n",
       "      <th>24247</th>\n",
       "      <td>er, THOSE.</td>\n",
       "      <td>1</td>\n",
       "      <td>dev</td>\n",
       "      <td>twt</td>\n",
       "      <td>er those</td>\n",
       "    </tr>\n",
       "    <tr>\n",
       "      <th>14796</th>\n",
       "      <td>is that ya bitch</td>\n",
       "      <td>1</td>\n",
       "      <td>dev</td>\n",
       "      <td>twt</td>\n",
       "      <td>ya bitch</td>\n",
       "    </tr>\n",
       "  </tbody>\n",
       "</table>\n",
       "</div>"
      ],
      "text/plain": [
       "                                text  label split dataset_name cleaned_text\n",
       "37115            OK thanks for that.      0   dev          jtc    ok thanks\n",
       "4185               I'd push for a 4.      0   dev          twt     i d push\n",
       "21586              Let's get it on!       0   dev          ghc    let s get\n",
       "30846                   I hate u,,,,      1   dev          twt     i hate u\n",
       "1156                       I need it      0   dev          twt       i need\n",
       "44943  you are dumb \\n\\nyou are dumb      1   dev          jtc    dumb dumb\n",
       "1900                 What the fuck?       0   dev          ghc    what fuck\n",
       "42733   You know what you should do?      0   dev          jtc     you know\n",
       "24247                     er, THOSE.      1   dev          twt     er those\n",
       "14796              is that ya bitch       1   dev          twt     ya bitch"
      ]
     },
     "execution_count": 3,
     "metadata": {},
     "output_type": "execute_result"
    }
   ],
   "source": [
    "df[df[\"cleaned_text\"].str.len() < 10].sample(n=10)"
   ]
  },
  {
   "cell_type": "code",
   "execution_count": 18,
   "id": "599d7203-3cb3-4766-bd45-98a0d5af2b57",
   "metadata": {},
   "outputs": [],
   "source": [
    "filtered_df = df[df[\"cleaned_text\"].str.split().apply(len) > 1]"
   ]
  },
  {
   "cell_type": "code",
   "execution_count": 19,
   "id": "1476f8ac-d50e-489d-8e2b-7ea28532c044",
   "metadata": {},
   "outputs": [
    {
     "data": {
      "text/html": [
       "<div>\n",
       "<style scoped>\n",
       "    .dataframe tbody tr th:only-of-type {\n",
       "        vertical-align: middle;\n",
       "    }\n",
       "\n",
       "    .dataframe tbody tr th {\n",
       "        vertical-align: top;\n",
       "    }\n",
       "\n",
       "    .dataframe thead th {\n",
       "        text-align: right;\n",
       "    }\n",
       "</style>\n",
       "<table border=\"1\" class=\"dataframe\">\n",
       "  <thead>\n",
       "    <tr style=\"text-align: right;\">\n",
       "      <th></th>\n",
       "      <th>label</th>\n",
       "      <th>split</th>\n",
       "      <th>text</th>\n",
       "      <th>dataset_name</th>\n",
       "      <th>cleaned_text</th>\n",
       "    </tr>\n",
       "  </thead>\n",
       "  <tbody>\n",
       "  </tbody>\n",
       "</table>\n",
       "</div>"
      ],
      "text/plain": [
       "Empty DataFrame\n",
       "Columns: [label, split, text, dataset_name, cleaned_text]\n",
       "Index: []"
      ]
     },
     "execution_count": 19,
     "metadata": {},
     "output_type": "execute_result"
    }
   ],
   "source": [
    "filtered_df[filtered_df[\"cleaned_text\"].str.split().apply(len) < 2]"
   ]
  },
  {
   "cell_type": "code",
   "execution_count": 16,
   "id": "7b8b6113-4f55-426d-861b-e7e7383c633a",
   "metadata": {},
   "outputs": [
    {
     "data": {
      "text/html": [
       "<div>\n",
       "<style scoped>\n",
       "    .dataframe tbody tr th:only-of-type {\n",
       "        vertical-align: middle;\n",
       "    }\n",
       "\n",
       "    .dataframe tbody tr th {\n",
       "        vertical-align: top;\n",
       "    }\n",
       "\n",
       "    .dataframe thead th {\n",
       "        text-align: right;\n",
       "    }\n",
       "</style>\n",
       "<table border=\"1\" class=\"dataframe\">\n",
       "  <thead>\n",
       "    <tr style=\"text-align: right;\">\n",
       "      <th></th>\n",
       "      <th>text</th>\n",
       "      <th>label</th>\n",
       "      <th>split</th>\n",
       "      <th>dataset_name</th>\n",
       "      <th>cleaned_text</th>\n",
       "    </tr>\n",
       "  </thead>\n",
       "  <tbody>\n",
       "  </tbody>\n",
       "</table>\n",
       "</div>"
      ],
      "text/plain": [
       "Empty DataFrame\n",
       "Columns: [text, label, split, dataset_name, cleaned_text]\n",
       "Index: []"
      ]
     },
     "execution_count": 16,
     "metadata": {},
     "output_type": "execute_result"
    }
   ],
   "source": [
    "df[df[\"cleaned_text\"].str.split().apply(len) < 2]"
   ]
  },
  {
   "cell_type": "code",
   "execution_count": 17,
   "id": "ab192b53-5e78-4ee3-ad47-56e9797369b0",
   "metadata": {},
   "outputs": [
    {
     "data": {
      "text/plain": [
       "16512"
      ]
     },
     "execution_count": 17,
     "metadata": {},
     "output_type": "execute_result"
    }
   ],
   "source": [
    "len(df)"
   ]
  },
  {
   "cell_type": "code",
   "execution_count": null,
   "id": "d96da15a-da0e-476d-807a-4c97ef55010d",
   "metadata": {},
   "outputs": [],
   "source": []
  }
 ],
 "metadata": {
  "kernelspec": {
   "display_name": "Python 3 (ipykernel)",
   "language": "python",
   "name": "python3"
  },
  "language_info": {
   "codemirror_mode": {
    "name": "ipython",
    "version": 3
   },
   "file_extension": ".py",
   "mimetype": "text/x-python",
   "name": "python",
   "nbconvert_exporter": "python",
   "pygments_lexer": "ipython3",
   "version": "3.10.15"
  }
 },
 "nbformat": 4,
 "nbformat_minor": 5
}
