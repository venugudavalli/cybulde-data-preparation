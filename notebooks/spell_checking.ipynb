{
 "cells": [
  {
   "cell_type": "code",
   "execution_count": 1,
   "id": "0a1813a6-a5b2-40a6-bf7e-a32301c598c3",
   "metadata": {},
   "outputs": [
    {
     "name": "stdout",
     "output_type": "stream",
     "text": [
      "/app\n"
     ]
    },
    {
     "name": "stderr",
     "output_type": "stream",
     "text": [
      "/home/wslvenug/venv/lib/python3.10/site-packages/IPython/core/magics/osm.py:417: UserWarning: This is now an optional IPython functionality, setting dhist requires you to install the `pickleshare` library.\n",
      "  self.shell.db['dhist'] = compress_dhist(dhist)[-100:]\n"
     ]
    }
   ],
   "source": [
    "cd /app"
   ]
  },
  {
   "cell_type": "code",
   "execution_count": 2,
   "id": "0e45ba5b-553b-4706-9843-c56c5a44f851",
   "metadata": {},
   "outputs": [],
   "source": [
    "from cybulde.utils.utils import SpellCorrectionModel\n",
    "from cybulde.data_processing.dataset_cleaners import SpellCorrectionDatasetCleaner"
   ]
  },
  {
   "cell_type": "code",
   "execution_count": 3,
   "id": "860fde86-55c0-43ae-b9ad-569fb572cb56",
   "metadata": {},
   "outputs": [],
   "source": [
    "spell_correction_model = SpellCorrectionModel()\n",
    "cleaner = SpellCorrectionDatasetCleaner(spell_correction_model)\n"
   ]
  },
  {
   "cell_type": "code",
   "execution_count": 4,
   "id": "f0a92d4d-624f-490d-955e-ef2f3e79cd21",
   "metadata": {},
   "outputs": [],
   "source": [
    "text = \"- whereis th elove hehad dated forImuch of thepast who couqdn'tread in sixthgrade and ins pired him\"\n"
   ]
  },
  {
   "cell_type": "code",
   "execution_count": 5,
   "id": "16a8dcaa-458c-4bcc-81f1-a719d899a9e2",
   "metadata": {},
   "outputs": [
    {
     "data": {
      "text/plain": [
       "\"where is the love he had dated for much of the past who couldn't read in sixth grade and inspired him\""
      ]
     },
     "execution_count": 5,
     "metadata": {},
     "output_type": "execute_result"
    }
   ],
   "source": [
    "cleaner(text)"
   ]
  },
  {
   "cell_type": "code",
   "execution_count": 8,
   "id": "2480a8e9-3f76-499c-9557-6f001b8af91c",
   "metadata": {},
   "outputs": [],
   "source": [
    "text = \"- in te dhird qarter oflast jear he hadlearned ofca sekretplan\""
   ]
  },
  {
   "cell_type": "code",
   "execution_count": 9,
   "id": "f9789a41-a36d-4191-9c91-8c5ba1db49c5",
   "metadata": {},
   "outputs": [
    {
     "data": {
      "text/plain": [
       "'in the third quarter of last year he had learned of a secret plan'"
      ]
     },
     "execution_count": 9,
     "metadata": {},
     "output_type": "execute_result"
    }
   ],
   "source": [
    "cleaner(text)"
   ]
  },
  {
   "cell_type": "code",
   "execution_count": 10,
   "id": "394de991-f931-4c28-a675-78800f8e17aa",
   "metadata": {},
   "outputs": [],
   "source": [
    "text = \"+ the biggest players in the strong summer film slate with plenty of fun  (9 edits)\""
   ]
  },
  {
   "cell_type": "code",
   "execution_count": 11,
   "id": "3380099c-e091-4aa3-a34e-bdc0e41d5df7",
   "metadata": {},
   "outputs": [
    {
     "data": {
      "text/plain": [
       "'the biggest players in the strong summer film slate with plenty of fun a edits'"
      ]
     },
     "execution_count": 11,
     "metadata": {},
     "output_type": "execute_result"
    }
   ],
   "source": [
    "cleaner(text)"
   ]
  },
  {
   "cell_type": "code",
   "execution_count": 14,
   "id": "1f7fcb6c-1e45-4d2a-ba01-fd64c1be8f62",
   "metadata": {},
   "outputs": [],
   "source": [
    "text = \"- Can yu readthis messa ge despite thehorible sppelingmsitakes\""
   ]
  },
  {
   "cell_type": "code",
   "execution_count": 15,
   "id": "c4bcd8f8-16c1-4507-b0cf-3a7ca2248905",
   "metadata": {},
   "outputs": [
    {
     "data": {
      "text/plain": [
       "'can you read this message despite the horrible spelling mistakes'"
      ]
     },
     "execution_count": 15,
     "metadata": {},
     "output_type": "execute_result"
    }
   ],
   "source": [
    "cleaner(text)"
   ]
  },
  {
   "cell_type": "code",
   "execution_count": null,
   "id": "ae4da1b4-6a0b-4189-8851-bc3fc54870c3",
   "metadata": {},
   "outputs": [],
   "source": []
  }
 ],
 "metadata": {
  "kernelspec": {
   "display_name": "Python 3 (ipykernel)",
   "language": "python",
   "name": "python3"
  },
  "language_info": {
   "codemirror_mode": {
    "name": "ipython",
    "version": 3
   },
   "file_extension": ".py",
   "mimetype": "text/x-python",
   "name": "python",
   "nbconvert_exporter": "python",
   "pygments_lexer": "ipython3",
   "version": "3.10.15"
  }
 },
 "nbformat": 4,
 "nbformat_minor": 5
}
